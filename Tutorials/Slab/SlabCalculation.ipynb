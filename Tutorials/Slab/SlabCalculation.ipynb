{
 "cells": [
  {
   "cell_type": "markdown",
   "metadata": {
    "deletable": true,
    "editable": true
   },
   "source": [
    "# Ionisation potential of a bulk material\n",
    "\n",
    "In this example we use `MacroDensity` with `VASP` to align the energy levels of a simple bulk material.\n",
    "\n",
    "The procedure involves two DFT calculations, yielding different important values\n",
    "\n",
    "* **A bulk calculation**, this provides us with the VBM eigenvalue under the assumption of zero potential ($\\epsilon_{vbm}$)\n",
    "* **A slab calculation**, this provides us with the vacuum level with resepct to the potential inside the material, the difference between these values is the surface dipole ($D_s$).\n",
    "\n",
    "The ionisation potential ($IP$) is then obtained from:\n",
    "\n",
    "$IP = D_s - \\epsilon_{vbm}$"
   ]
  },
  {
   "cell_type": "code",
   "execution_count": 1,
   "metadata": {
    "collapsed": false,
    "deletable": true,
    "editable": true
   },
   "outputs": [
    {
     "ename": "ImportError",
     "evalue": "No module named NewPotentialModule",
     "output_type": "error",
     "traceback": [
      "\u001b[0;31m---------------------------------------------------------------------------\u001b[0m",
      "\u001b[0;31mImportError\u001b[0m                               Traceback (most recent call last)",
      "\u001b[0;32m<ipython-input-1-195a1962c7de>\u001b[0m in \u001b[0;36m<module>\u001b[0;34m()\u001b[0m\n\u001b[1;32m      1\u001b[0m \u001b[0mget_ipython\u001b[0m\u001b[0;34m(\u001b[0m\u001b[0;34m)\u001b[0m\u001b[0;34m.\u001b[0m\u001b[0mmagic\u001b[0m\u001b[0;34m(\u001b[0m\u001b[0;34mu'matplotlib inline'\u001b[0m\u001b[0;34m)\u001b[0m\u001b[0;34m\u001b[0m\u001b[0m\n\u001b[0;32m----> 2\u001b[0;31m \u001b[0;32mimport\u001b[0m \u001b[0mNewPotentialModule\u001b[0m \u001b[0;32mas\u001b[0m \u001b[0mpot\u001b[0m\u001b[0;34m\u001b[0m\u001b[0m\n\u001b[0m\u001b[1;32m      3\u001b[0m \u001b[0;32mimport\u001b[0m \u001b[0mmath\u001b[0m\u001b[0;34m\u001b[0m\u001b[0m\n\u001b[1;32m      4\u001b[0m \u001b[0;32mimport\u001b[0m \u001b[0mnumpy\u001b[0m \u001b[0;32mas\u001b[0m \u001b[0mnp\u001b[0m\u001b[0;34m\u001b[0m\u001b[0m\n\u001b[1;32m      5\u001b[0m \u001b[0;32mimport\u001b[0m \u001b[0mmatplotlib\u001b[0m\u001b[0;34m.\u001b[0m\u001b[0mpyplot\u001b[0m \u001b[0;32mas\u001b[0m \u001b[0mplt\u001b[0m\u001b[0;34m\u001b[0m\u001b[0m\n",
      "\u001b[0;31mImportError\u001b[0m: No module named NewPotentialModule"
     ]
    }
   ],
   "source": [
    "%matplotlib inline\n",
    "import NewPotentialModule as pot\n",
    "import math\n",
    "import numpy as np\n",
    "import matplotlib.pyplot as plt\n",
    "import matplotlib as mpl"
   ]
  },
  {
   "cell_type": "markdown",
   "metadata": {
    "deletable": true,
    "editable": true
   },
   "source": [
    "# Bulk calculation\n",
    "\n",
    "In this calculation we calculate the eigenvalues of the bulk material, under the assumption of zero average potential.\n",
    "\n",
    "You find the eigenvalues printed after the line \"band No.  band energies     occupation\" in the `OUTCAR`\n",
    "\n",
    "For a spin un-polarised calculation, I have a very simple `bash` script to get the highest occupied value.\n",
    "\n",
    "    #!/bin/bash\n",
    "    nkpts=`grep NKPTS OUTCAR | awk '{print $4}'`\n",
    "    uband=`grep NELECT OUTCAR | awk '{print $3/2+1}'`\n",
    "    grep \"  $uband   \" OUTCAR | tail -$nkpts | awk '{print $2}' | sort -n | head\n",
    "    \n",
    "Let's try it out on the OUTCAR_bulk file in this directory"
   ]
  },
  {
   "cell_type": "code",
   "execution_count": 86,
   "metadata": {
    "collapsed": false,
    "deletable": true,
    "editable": true
   },
   "outputs": [
    {
     "name": "stdout",
     "output_type": "stream",
     "text": [
      "3.7626\n"
     ]
    }
   ],
   "source": [
    "%%bash\n",
    "nkpts=`grep NKPTS OUTCAR_bulk | awk '{print $4}'`\n",
    "uband=`grep NELECT OUTCAR_bulk | awk '{print $3/2}'`\n",
    "grep \"  $uband   \" OUTCAR_bulk | tail -$nkpts | awk '{print $2}' | sort -n | head | tail -1"
   ]
  },
  {
   "cell_type": "markdown",
   "metadata": {
    "deletable": true,
    "editable": true
   },
   "source": [
    "## Slab calculation\n",
    "\n",
    "Now we do a calculation of the slab to get the potential profile. Important settings for the `INCAR` file:\n",
    "\n",
    "    LVHAR = .TRUE.  # This generates a LOCPOT file with the potential \n",
    "    \n",
    "In your example directory there should already be a `LOCPOT.slab` file. This is the one we will use to analyse the potential and extract the vacuum level and the surface dipole.\n",
    "\n",
    "In the sample `PlanarAverage.py` file, all we have to edit are the top three lines. Of these the only one that is not obvious is the `lattice_vector` parameter. This is just the periodicity of the slab in the direction normal to the surface. In the picture below, this is just the distance between the layers of SnO$_2$.\n",
    "\n",
    "<img src=\"slab.png\">"
   ]
  },
  {
   "cell_type": "code",
   "execution_count": 81,
   "metadata": {
    "collapsed": true,
    "deletable": true,
    "editable": true
   },
   "outputs": [],
   "source": [
    "input_file = 'LOCPOT.slab'\n",
    "lattice_vector = 4.85\n",
    "output_file = 'planar.dat'"
   ]
  },
  {
   "cell_type": "markdown",
   "metadata": {
    "deletable": true,
    "editable": true
   },
   "source": [
    "### The code below is set in the PlanarAverage.py file; you don't need to edit it"
   ]
  },
  {
   "cell_type": "code",
   "execution_count": 82,
   "metadata": {
    "collapsed": false,
    "deletable": true,
    "editable": true
   },
   "outputs": [
    {
     "name": "stdout",
     "output_type": "stream",
     "text": [
      "Reading potential at point 100000\n",
      "Reading potential at point 200000\n",
      "Reading potential at point 300000\n",
      "Reading potential at point 400000\n",
      "Reading potential at point 500000\n",
      "Reading potential at point 600000\n",
      "Reading potential at point 700000\n",
      "Reading potential at point 800000\n",
      "Reading potential at point 900000\n",
      "Reading potential at point 1000000\n",
      "Reading potential at point 1100000\n",
      "Reading potential at point 1200000\n",
      "Reading potential at point 1300000\n",
      "Reading potential at point 1400000\n",
      "Reading potential at point 1500000\n",
      "Reading potential at point 1600000\n",
      "Reading potential at point 1700000\n",
      "Reading potential at point 1800000\n",
      "Reading potential at point 1900000\n",
      "Reading potential at point 2000000\n",
      "BBBB\t\tOOOO\t\tOOOO\t\tMMMMM\t\n",
      "BBBB\t\tOOOO\t\tOOOO\t\tMMMMM\t\n",
      "BBBB\t\tOOOO\t\tOOOO\t\tMMMMM\t\n",
      "B  B\t        OOOO\t\tOOOO\t\tMMMMM\t\n",
      "B  B\t        O  O\t\tO  O\t\tMMMMM\t\n",
      "B  B\t        O  O\t\tO  O\t\tMMMMM\t\n",
      "B  B\t        O  O\t\tO  O\t\tMMMMM\t\n",
      "B  B\t        O  O\t\tO  O\t\tMMMMM\t\n",
      "BBBB\t        O  O            O  O\t\tM M M\t\n",
      "BBBB\t        O  O\t\tO  O\t\tM M M\t\n",
      "BBBB\t        O  O\t\tO  O\t\tM M M\t\n",
      "B  B\t        O  O\t\tO  O\t\tM M M\t\n",
      "B  B\t        O  O\t\tO  O\t\tM M M\t\n",
      "B  B\t        O  O\t\tO  O\t\tM M M\t\n",
      "B  B\t        O  O\t\tO  O\t\tM M M\t\n",
      "B  B\t        OOOO    \tOOOO\t\tM M M\t\n",
      "BBBB            OOOO\t        OOOO\t\tM M M\t\n",
      "BBBB            OOOO\t        OOOO\t\tM M M\t\n",
      "BBBB            OOOO\t        OOOO\t\tM M M\t\n",
      "('Average of the potential = ', -1.1268730799367189e-05)\n"
     ]
    }
   ],
   "source": [
    "vasp_pot, NGX, NGY, NGZ, Lattice = pot.read_vasp_density(input_file)\n",
    "vector_a,vector_b,vector_c,av,bv,cv = pot.matrix_2_abc(Lattice)\n",
    "resolution_x = vector_a/NGX\n",
    "resolution_y = vector_b/NGY\n",
    "resolution_z = vector_c/NGZ\n",
    "grid_pot, electrons = pot.density_2_grid(vasp_pot,NGX,NGY,NGZ)"
   ]
  },
  {
   "cell_type": "markdown",
   "metadata": {
    "deletable": true,
    "editable": true
   },
   "source": [
    "### The code below will prompt you to say which axis you want to average along"
   ]
  },
  {
   "cell_type": "code",
   "execution_count": 83,
   "metadata": {
    "collapsed": false,
    "deletable": true,
    "editable": true
   },
   "outputs": [
    {
     "name": "stdout",
     "output_type": "stream",
     "text": [
      "Which axis do you wish to plot along?(x,y,z)LOWER CASE!! z\n",
      "('Average of the average = ', -1.1110016280744443e-05)\n"
     ]
    }
   ],
   "source": [
    "## POTENTIAL\n",
    "planar = pot.planar_average(grid_pot,NGX,NGY,NGZ)\n",
    "## MACROSCOPIC AVERAGE\n",
    "macro  = pot.macroscopic_average(planar,lattice_vector,resolution_z)"
   ]
  },
  {
   "cell_type": "markdown",
   "metadata": {
    "deletable": true,
    "editable": true
   },
   "source": [
    "### Now we can plot the results"
   ]
  },
  {
   "cell_type": "code",
   "execution_count": 88,
   "metadata": {
    "collapsed": false,
    "deletable": true,
    "editable": true,
    "scrolled": true
   },
   "outputs": [
    {
     "data": {
      "image/png": "[encoded data removed]",
      "text/plain": [
       "<matplotlib.figure.Figure at 0x10bf10090>"
      ]
     },
     "metadata": {},
     "output_type": "display_data"
    }
   ],
   "source": [
    "fig, ax1 = plt.subplots(1, 1, sharex=True)\n",
    "\n",
    "textsize = 22\n",
    "mpl.rcParams['xtick.labelsize'] = textsize\n",
    "mpl.rcParams['ytick.labelsize'] = textsize\n",
    "mpl.rcParams['figure.figsize'] = (10, 6)\n",
    "\n",
    "ax1.plot(planar,label=\"Planar\",lw=3)\n",
    "ax1.plot(macro,label=\"Macroscopic\",lw=3)\n",
    "\n",
    "ax1.set_xlim(0,len(planar))\n",
    "\n",
    "ax1.set_facecolor((0.95,0.95,0.95))\n",
    "ax1.grid(True)\n",
    "\n",
    "ax1.legend(fontsize=22)\n",
    "plt.show()\n",
    "np.savetxt(output_file,planar)"
   ]
  },
  {
   "cell_type": "markdown",
   "metadata": {
    "deletable": true,
    "editable": true
   },
   "source": [
    "### PROTIP\n",
    "\n",
    "Sometimes the macroscopic average potential in the slab still looks very wavey. In this case it is sometimes required to increase the `lattice_vector` setting from earlier, since there are sometimes numerical effects. "
   ]
  },
  {
   "cell_type": "markdown",
   "metadata": {
    "deletable": true,
    "editable": true
   },
   "source": [
    "### Get the surface dipole ($D_s$)\n",
    "\n",
    "The surface dipole is the difference between the macroscopic average in the centre of the vacuum and the centre of the slab.\n",
    "\n",
    "In this case 7.60 - (-6.27) = 13.87 V\n",
    "\n",
    "The IP is then 13.87 - 3.76 = 10.11 eV"
   ]
  }
 ],
 "metadata": {
  "kernelspec": {
   "display_name": "Python 2",
   "language": "python",
   "name": "python2"
  },
  "language_info": {
   "codemirror_mode": {
    "name": "ipython",
    "version": 2
   },
   "file_extension": ".py",
   "mimetype": "text/x-python",
   "name": "python",
   "nbconvert_exporter": "python",
   "pygments_lexer": "ipython2",
   "version": "2.7.13"
  }
 },
 "nbformat": 4,
 "nbformat_minor": 2
}
