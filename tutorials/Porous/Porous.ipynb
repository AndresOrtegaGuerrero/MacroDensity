{
 "cells": [
  {
   "cell_type": "markdown",
   "metadata": {},
   "source": [
    "# Ionisation potential of a porous material\n",
    "\n",
    "In this example we use `MacroDensity` with `VASP` to align the energy levels of a porous material.\n",
    "\n",
    "The procedure involves one DFT calculaion, yielding different important values\n",
    "\n",
    "* $\\epsilon_{vbm}$ - the valence band maximum\n",
    "* $V_{vac}$ - the vacuum potential\n",
    "\n",
    "The ionisation potential ($IP$) is then obtained from:\n",
    "\n",
    "$IP = V_{vac} - \\epsilon_{vbm}$\n",
    "\n",
    "The difference to a bulk calculation is that here the material itself has a vacuum within. That means that we can sample the vacuum level from there.\n",
    "\n",
    "The procedure was first outlined in a seminal JACS paper, [read it here](http://pubs.acs.org/doi/abs/10.1021/ja4110073).\n",
    "\n",
    "## Our system \n",
    "\n",
    "The beautiful ZIF-8 is our porous system of choice for this demonstration.\n",
    "\n",
    "<img src=\"zif8.png\">\n",
    "\n",
    "## Procedure\n",
    "\n",
    "* Optimise the structre\n",
    "* Calculate the electronic structure at your chosen level of theory **Remember in your INCAR:**\n",
    "\n",
    "    LVHAR = .TRUE.  # This generates a LOCPOT file with the potential \n",
    "    \n",
    "* Locate the centre of the largest pore - do this \"by eye\" first\n",
    "* Plot the potential in that plane, so see if it plateaus\n",
    "* Plot a profile of the potential across the pore, again to see the plateau\n",
    "* Sample the potential from the pore centre\n",
    "\n",
    "**NB** This whole procedure is probably better run in a notebook than by script, the reason being that you can read the file once, then do the manipulations later. The reading is the intensive and time consuming step. "
   ]
  },
  {
   "cell_type": "code",
   "execution_count": 1,
   "metadata": {
    "collapsed": true
   },
   "outputs": [],
   "source": [
    "%matplotlib inline\n",
    "%load_ext autoreload\n",
    "%autoreload 2\n",
    "import imp\n",
    "import NewPotentialModule as pot\n",
    "import math\n",
    "import numpy as np\n",
    "import matplotlib.pyplot as plt"
   ]
  },
  {
   "cell_type": "markdown",
   "metadata": {},
   "source": [
    "### Read the potential"
   ]
  },
  {
   "cell_type": "code",
   "execution_count": 30,
   "metadata": {},
   "outputs": [
    {
     "name": "stdout",
     "output_type": "stream",
     "text": [
      "Reading potential at point 100000\n",
      "Reading potential at point 200000\n",
      "Reading potential at point 300000\n",
      "Reading potential at point 400000\n",
      "Reading potential at point 500000\n",
      "Reading potential at point 600000\n",
      "Reading potential at point 700000\n",
      "Reading potential at point 800000\n",
      "Reading potential at point 900000\n",
      "Reading potential at point 1000000\n",
      "Reading potential at point 1100000\n",
      "Reading potential at point 1200000\n",
      "Reading potential at point 1300000\n",
      "Reading potential at point 1400000\n",
      "Reading potential at point 1500000\n",
      "Reading potential at point 1600000\n",
      "Reading potential at point 1700000\n",
      "Reading potential at point 1800000\n",
      "Reading potential at point 1900000\n",
      "Reading potential at point 2000000\n",
      "Reading potential at point 2100000\n",
      "Reading potential at point 2200000\n",
      "Reading potential at point 2300000\n",
      "Reading potential at point 2400000\n",
      "Reading potential at point 2500000\n",
      "Reading potential at point 2600000\n",
      "Reading potential at point 2700000\n",
      "Reading potential at point 2800000\n",
      "Reading potential at point 2900000\n",
      "Reading potential at point 3000000\n",
      "Reading potential at point 3100000\n",
      "Reading potential at point 3200000\n",
      "Reading potential at point 3300000\n",
      "Reading potential at point 3400000\n",
      "Reading potential at point 3500000\n",
      "Reading potential at point 3600000\n",
      "Reading potential at point 3700000\n",
      "Reading potential at point 3800000\n",
      "Reading potential at point 3900000\n",
      "Reading potential at point 4000000\n",
      "Reading potential at point 4100000\n",
      "Reading potential at point 4200000\n",
      "Reading potential at point 4300000\n",
      "Reading potential at point 4400000\n",
      "Reading potential at point 4500000\n",
      "Reading potential at point 4600000\n",
      "Reading potential at point 4700000\n",
      "Reading potential at point 4800000\n",
      "Reading potential at point 4900000\n",
      "Reading potential at point 5000000\n",
      "Reading potential at point 5100000\n",
      "Reading potential at point 5200000\n",
      "Reading potential at point 5300000\n",
      "Reading potential at point 5400000\n",
      "Reading potential at point 5500000\n",
      "Reading potential at point 5600000\n",
      "Reading potential at point 5700000\n",
      "Reading potential at point 5800000\n",
      "Reading potential at point 5900000\n",
      "Reading potential at point 6000000\n",
      "Reading potential at point 6100000\n",
      "Reading potential at point 6200000\n",
      "Reading potential at point 6300000\n",
      "Reading potential at point 6400000\n",
      "Reading potential at point 6500000\n",
      "Reading potential at point 6600000\n",
      "Reading potential at point 6700000\n",
      "Reading potential at point 6800000\n",
      "Reading potential at point 6900000\n",
      "Reading potential at point 7000000\n",
      "Reading potential at point 7100000\n",
      "Reading potential at point 7200000\n",
      "Reading potential at point 7300000\n",
      "Reading potential at point 7400000\n",
      "Reading potential at point 7500000\n",
      "Reading potential at point 7600000\n",
      "Reading potential at point 7700000\n",
      "Reading potential at point 7800000\n",
      "Reading potential at point 7900000\n",
      "Reading potential at point 8000000\n",
      "Reading potential at point 8100000\n",
      "Reading potential at point 8200000\n",
      "Reading potential at point 8300000\n",
      "Reading potential at point 8400000\n",
      "Reading potential at point 8500000\n",
      "Reading potential at point 8600000\n",
      "Reading potential at point 8700000\n",
      "Reading potential at point 8800000\n",
      "Reading potential at point 8900000\n",
      "Reading potential at point 9000000\n",
      "Reading potential at point 9100000\n",
      "Reading potential at point 9200000\n",
      "Reading potential at point 9300000\n",
      "Reading potential at point 9400000\n",
      "Reading potential at point 9500000\n",
      "Reading potential at point 9600000\n",
      "Reading potential at point 9700000\n",
      "Reading potential at point 9800000\n",
      "Reading potential at point 9900000\n",
      "Reading potential at point 10000000\n",
      "Reading potential at point 10100000\n",
      "Reading potential at point 10200000\n",
      "Reading potential at point 10300000\n",
      "Reading potential at point 10400000\n",
      "BBBB\t\tOOOO\t\tOOOO\t\tMMMMM\t\n",
      "BBBB\t\tOOOO\t\tOOOO\t\tMMMMM\t\n",
      "BBBB\t\tOOOO\t\tOOOO\t\tMMMMM\t\n",
      "B  B\t        OOOO\t\tOOOO\t\tMMMMM\t\n",
      "B  B\t        O  O\t\tO  O\t\tMMMMM\t\n",
      "B  B\t        O  O\t\tO  O\t\tMMMMM\t\n",
      "B  B\t        O  O\t\tO  O\t\tMMMMM\t\n",
      "B  B\t        O  O\t\tO  O\t\tMMMMM\t\n",
      "BBBB\t        O  O            O  O\t\tM M M\t\n",
      "BBBB\t        O  O\t\tO  O\t\tM M M\t\n",
      "BBBB\t        O  O\t\tO  O\t\tM M M\t\n",
      "B  B\t        O  O\t\tO  O\t\tM M M\t\n",
      "B  B\t        O  O\t\tO  O\t\tM M M\t\n",
      "B  B\t        O  O\t\tO  O\t\tM M M\t\n",
      "B  B\t        O  O\t\tO  O\t\tM M M\t\n",
      "B  B\t        OOOO    \tOOOO\t\tM M M\t\n",
      "BBBB            OOOO\t        OOOO\t\tM M M\t\n",
      "BBBB            OOOO\t        OOOO\t\tM M M\t\n",
      "BBBB            OOOO\t        OOOO\t\tM M M\t\n",
      "('Average of the potential = ', 9.4444591036690892e-14)\n"
     ]
    }
   ],
   "source": [
    "input_file = 'AFI/LOCPOT'\n",
    "#=== No need to edit below\n",
    "vasp_pot, NGX, NGY, NGZ, Lattice = pot.read_vasp_density(input_file)\n",
    "vector_a,vector_b,vector_c,av,bv,cv = pot.matrix_2_abc(Lattice)\n",
    "resolution_x = vector_a/NGX\n",
    "resolution_y = vector_b/NGY\n",
    "resolution_z = vector_c/NGZ\n",
    "grid_pot, electrons = pot.density_2_grid(vasp_pot,NGX,NGY,NGZ)"
   ]
  },
  {
   "cell_type": "code",
   "execution_count": 31,
   "metadata": {
    "collapsed": true
   },
   "outputs": [],
   "source": [
    "cube_size = [4,4,4]\n",
    "cube_origin = [0,0,0.5]"
   ]
  },
  {
   "cell_type": "code",
   "execution_count": 32,
   "metadata": {},
   "outputs": [
    {
     "name": "stdout",
     "output_type": "stream",
     "text": [
      "Potential            Variance\n",
      "--------------------------------\n",
      "5.80630187979     2.23093986327e-08\n"
     ]
    }
   ],
   "source": [
    "## cube defines the size of the cube in units of mesh points (NGX/Y/Z)\n",
    "cube = cube_size\n",
    "## origin defines the bottom left point of the cube the \"0,0,0\" point in fractional coordinates\n",
    "origin = cube_origin\n",
    "## travelled; do not alter this variable\n",
    "travelled = [0,0,0]\n",
    "## Uncomment the lines below to do the business\n",
    "cube_potential, cube_var = pot.cube_potential(origin,travelled,cube,grid_pot,NGX,NGY,NGZ)\n",
    "print \"Potential            Variance\"\n",
    "print \"--------------------------------\"\n",
    "print cube_potential,\"   \", cube_var"
   ]
  },
  {
   "cell_type": "code",
   "execution_count": 18,
   "metadata": {},
   "outputs": [
    {
     "name": "stdout",
     "output_type": "stream",
     "text": [
      "-2.0729\n"
     ]
    }
   ],
   "source": [
    "%%bash\n",
    "nkpts=`grep NKPTS AFI/OUTCAR | awk '{print $4}'`\n",
    "uband=`grep NELECT AFI/OUTCAR | awk '{print $3/2}'`\n",
    "grep \"  $uband   \" AFI/OUTCAR | tail -$nkpts | awk '{print $2}' | sort -n | head | tail -1"
   ]
  },
  {
   "cell_type": "code",
   "execution_count": 19,
   "metadata": {},
   "outputs": [
    {
     "name": "stdout",
     "output_type": "stream",
     "text": [
      "IP: 7.8792 eV\n"
     ]
    }
   ],
   "source": [
    "print \"IP: %3.4f eV\" % (5.80630187979 -- 2.0729 )"
   ]
  },
  {
   "cell_type": "markdown",
   "metadata": {},
   "source": [
    "## LTA"
   ]
  },
  {
   "cell_type": "code",
   "execution_count": 20,
   "metadata": {},
   "outputs": [
    {
     "name": "stdout",
     "output_type": "stream",
     "text": [
      "Reading potential at point 100000\n",
      "Reading potential at point 200000\n",
      "Reading potential at point 300000\n",
      "Reading potential at point 400000\n",
      "Reading potential at point 500000\n",
      "Reading potential at point 600000\n",
      "Reading potential at point 700000\n",
      "Reading potential at point 800000\n",
      "Reading potential at point 900000\n",
      "Reading potential at point 1000000\n",
      "Reading potential at point 1100000\n",
      "Reading potential at point 1200000\n",
      "Reading potential at point 1300000\n",
      "Reading potential at point 1400000\n",
      "Reading potential at point 1500000\n",
      "Reading potential at point 1600000\n",
      "Reading potential at point 1700000\n",
      "Reading potential at point 1800000\n",
      "Reading potential at point 1900000\n",
      "Reading potential at point 2000000\n",
      "Reading potential at point 2100000\n",
      "Reading potential at point 2200000\n",
      "Reading potential at point 2300000\n",
      "Reading potential at point 2400000\n",
      "Reading potential at point 2500000\n",
      "Reading potential at point 2600000\n",
      "Reading potential at point 2700000\n",
      "Reading potential at point 2800000\n",
      "Reading potential at point 2900000\n",
      "Reading potential at point 3000000\n",
      "Reading potential at point 3100000\n",
      "Reading potential at point 3200000\n",
      "Reading potential at point 3300000\n",
      "Reading potential at point 3400000\n",
      "Reading potential at point 3500000\n",
      "Reading potential at point 3600000\n",
      "Reading potential at point 3700000\n",
      "Reading potential at point 3800000\n",
      "Reading potential at point 3900000\n",
      "Reading potential at point 4000000\n",
      "Reading potential at point 4100000\n",
      "Reading potential at point 4200000\n",
      "Reading potential at point 4300000\n",
      "Reading potential at point 4400000\n",
      "Reading potential at point 4500000\n",
      "Reading potential at point 4600000\n",
      "Reading potential at point 4700000\n",
      "Reading potential at point 4800000\n",
      "Reading potential at point 4900000\n",
      "Reading potential at point 5000000\n",
      "Reading potential at point 5100000\n",
      "Reading potential at point 5200000\n",
      "Reading potential at point 5300000\n",
      "Reading potential at point 5400000\n",
      "Reading potential at point 5500000\n",
      "Reading potential at point 5600000\n",
      "Reading potential at point 5700000\n",
      "Reading potential at point 5800000\n",
      "Reading potential at point 5900000\n",
      "Reading potential at point 6000000\n",
      "Reading potential at point 6100000\n",
      "Reading potential at point 6200000\n",
      "Reading potential at point 6300000\n",
      "Reading potential at point 6400000\n",
      "Reading potential at point 6500000\n",
      "Reading potential at point 6600000\n",
      "Reading potential at point 6700000\n",
      "Reading potential at point 6800000\n",
      "Reading potential at point 6900000\n",
      "Reading potential at point 7000000\n",
      "Reading potential at point 7100000\n",
      "Reading potential at point 7200000\n",
      "Reading potential at point 7300000\n",
      "Reading potential at point 7400000\n",
      "Reading potential at point 7500000\n",
      "Reading potential at point 7600000\n",
      "Reading potential at point 7700000\n",
      "Reading potential at point 7800000\n",
      "Reading potential at point 7900000\n",
      "Reading potential at point 8000000\n",
      "Reading potential at point 8100000\n",
      "Reading potential at point 8200000\n",
      "Reading potential at point 8300000\n",
      "Reading potential at point 8400000\n",
      "Reading potential at point 8500000\n",
      "Reading potential at point 8600000\n",
      "Reading potential at point 8700000\n",
      "Reading potential at point 8800000\n",
      "Reading potential at point 8900000\n",
      "Reading potential at point 9000000\n",
      "Reading potential at point 9100000\n",
      "Reading potential at point 9200000\n",
      "Reading potential at point 9300000\n",
      "Reading potential at point 9400000\n",
      "Reading potential at point 9500000\n",
      "Reading potential at point 9600000\n",
      "Reading potential at point 9700000\n",
      "Reading potential at point 9800000\n",
      "Reading potential at point 9900000\n",
      "Reading potential at point 10000000\n",
      "Reading potential at point 10100000\n",
      "Reading potential at point 10200000\n",
      "Reading potential at point 10300000\n",
      "Reading potential at point 10400000\n",
      "Reading potential at point 10500000\n",
      "Reading potential at point 10600000\n",
      "Reading potential at point 10700000\n",
      "Reading potential at point 10800000\n",
      "Reading potential at point 10900000\n",
      "Reading potential at point 11000000\n",
      "Reading potential at point 11100000\n",
      "Reading potential at point 11200000\n",
      "BBBB\t\tOOOO\t\tOOOO\t\tMMMMM\t\n",
      "BBBB\t\tOOOO\t\tOOOO\t\tMMMMM\t\n",
      "BBBB\t\tOOOO\t\tOOOO\t\tMMMMM\t\n",
      "B  B\t        OOOO\t\tOOOO\t\tMMMMM\t\n",
      "B  B\t        O  O\t\tO  O\t\tMMMMM\t\n",
      "B  B\t        O  O\t\tO  O\t\tMMMMM\t\n",
      "B  B\t        O  O\t\tO  O\t\tMMMMM\t\n",
      "B  B\t        O  O\t\tO  O\t\tMMMMM\t\n",
      "BBBB\t        O  O            O  O\t\tM M M\t\n",
      "BBBB\t        O  O\t\tO  O\t\tM M M\t\n",
      "BBBB\t        O  O\t\tO  O\t\tM M M\t\n",
      "B  B\t        O  O\t\tO  O\t\tM M M\t\n",
      "B  B\t        O  O\t\tO  O\t\tM M M\t\n",
      "B  B\t        O  O\t\tO  O\t\tM M M\t\n",
      "B  B\t        O  O\t\tO  O\t\tM M M\t\n",
      "B  B\t        OOOO    \tOOOO\t\tM M M\t\n",
      "BBBB            OOOO\t        OOOO\t\tM M M\t\n",
      "BBBB            OOOO\t        OOOO\t\tM M M\t\n",
      "BBBB            OOOO\t        OOOO\t\tM M M\t\n",
      "('Average of the potential = ', -1.5933902448467312e-06)\n"
     ]
    }
   ],
   "source": [
    "input_file = 'LTA/LOCPOT'\n",
    "#=== No need to edit below\n",
    "vasp_pot, NGX, NGY, NGZ, Lattice = pot.read_vasp_density(input_file)\n",
    "vector_a,vector_b,vector_c,av,bv,cv = pot.matrix_2_abc(Lattice)\n",
    "resolution_x = vector_a/NGX\n",
    "resolution_y = vector_b/NGY\n",
    "resolution_z = vector_c/NGZ\n",
    "grid_pot, electrons = pot.density_2_grid(vasp_pot,NGX,NGY,NGZ)"
   ]
  },
  {
   "cell_type": "code",
   "execution_count": 22,
   "metadata": {},
   "outputs": [
    {
     "name": "stdout",
     "output_type": "stream",
     "text": [
      "Potential            Variance\n",
      "--------------------------------\n",
      "4.47729686722     4.32406831814e-08\n"
     ]
    }
   ],
   "source": [
    "cube_size = [4,4,4]\n",
    "cube_origin = [0,0,0]\n",
    "## cube defines the size of the cube in units of mesh points (NGX/Y/Z)\n",
    "cube = cube_size\n",
    "## origin defines the bottom left point of the cube the \"0,0,0\" point in fractional coordinates\n",
    "origin = cube_origin\n",
    "## travelled; do not alter this variable\n",
    "travelled = [0,0,0]\n",
    "## Uncomment the lines below to do the business\n",
    "cube_potential, cube_var = pot.cube_potential(origin,travelled,cube,grid_pot,NGX,NGY,NGZ)\n",
    "print \"Potential            Variance\"\n",
    "print \"--------------------------------\"\n",
    "print cube_potential,\"   \", cube_var"
   ]
  },
  {
   "cell_type": "code",
   "execution_count": 24,
   "metadata": {},
   "outputs": [
    {
     "name": "stdout",
     "output_type": "stream",
     "text": [
      "-3.0078\n"
     ]
    }
   ],
   "source": [
    "%%bash\n",
    "nkpts=`grep NKPTS LTA/OUTCAR | awk '{print $4}'`\n",
    "uband=`grep NELECT LTA/OUTCAR | awk '{print $3/2}'`\n",
    "grep \"  $uband   \" LTA/OUTCAR | tail -$nkpts | awk '{print $2}' | sort -n | head | tail -1"
   ]
  },
  {
   "cell_type": "code",
   "execution_count": 25,
   "metadata": {},
   "outputs": [
    {
     "name": "stdout",
     "output_type": "stream",
     "text": [
      "IP: 7.4851 eV\n"
     ]
    }
   ],
   "source": [
    "print \"IP: %3.4f eV\" % (4.47729686722 -- 3.0078 )"
   ]
  },
  {
   "cell_type": "markdown",
   "metadata": {},
   "source": [
    "## SOD"
   ]
  },
  {
   "cell_type": "code",
   "execution_count": 33,
   "metadata": {},
   "outputs": [
    {
     "name": "stdout",
     "output_type": "stream",
     "text": [
      "Reading potential at point 100000\n",
      "Reading potential at point 200000\n",
      "Reading potential at point 300000\n",
      "Reading potential at point 400000\n",
      "Reading potential at point 500000\n",
      "Reading potential at point 600000\n",
      "Reading potential at point 700000\n",
      "Reading potential at point 800000\n",
      "Reading potential at point 900000\n",
      "Reading potential at point 1000000\n",
      "Reading potential at point 1100000\n",
      "Reading potential at point 1200000\n",
      "Reading potential at point 1300000\n",
      "Reading potential at point 1400000\n",
      "Reading potential at point 1500000\n",
      "Reading potential at point 1600000\n",
      "Reading potential at point 1700000\n",
      "Reading potential at point 1800000\n",
      "Reading potential at point 1900000\n",
      "Reading potential at point 2000000\n",
      "Reading potential at point 2100000\n",
      "Reading potential at point 2200000\n",
      "Reading potential at point 2300000\n",
      "Reading potential at point 2400000\n",
      "Reading potential at point 2500000\n",
      "Reading potential at point 2600000\n",
      "Reading potential at point 2700000\n",
      "Reading potential at point 2800000\n",
      "Reading potential at point 2900000\n",
      "Reading potential at point 3000000\n",
      "Reading potential at point 3100000\n",
      "Reading potential at point 3200000\n",
      "Reading potential at point 3300000\n",
      "Reading potential at point 3400000\n",
      "Reading potential at point 3500000\n",
      "Reading potential at point 3600000\n",
      "Reading potential at point 3700000\n",
      "Reading potential at point 3800000\n",
      "Reading potential at point 3900000\n",
      "Reading potential at point 4000000\n",
      "Reading potential at point 4100000\n",
      "Reading potential at point 4200000\n",
      "Reading potential at point 4300000\n",
      "Reading potential at point 4400000\n",
      "Reading potential at point 4500000\n",
      "Reading potential at point 4600000\n",
      "Reading potential at point 4700000\n",
      "BBBB\t\tOOOO\t\tOOOO\t\tMMMMM\t\n",
      "BBBB\t\tOOOO\t\tOOOO\t\tMMMMM\t\n",
      "BBBB\t\tOOOO\t\tOOOO\t\tMMMMM\t\n",
      "B  B\t        OOOO\t\tOOOO\t\tMMMMM\t\n",
      "B  B\t        O  O\t\tO  O\t\tMMMMM\t\n",
      "B  B\t        O  O\t\tO  O\t\tMMMMM\t\n",
      "B  B\t        O  O\t\tO  O\t\tMMMMM\t\n",
      "B  B\t        O  O\t\tO  O\t\tMMMMM\t\n",
      "BBBB\t        O  O            O  O\t\tM M M\t\n",
      "BBBB\t        O  O\t\tO  O\t\tM M M\t\n",
      "BBBB\t        O  O\t\tO  O\t\tM M M\t\n",
      "B  B\t        O  O\t\tO  O\t\tM M M\t\n",
      "B  B\t        O  O\t\tO  O\t\tM M M\t\n",
      "B  B\t        O  O\t\tO  O\t\tM M M\t\n",
      "B  B\t        O  O\t\tO  O\t\tM M M\t\n",
      "B  B\t        OOOO    \tOOOO\t\tM M M\t\n",
      "BBBB            OOOO\t        OOOO\t\tM M M\t\n",
      "BBBB            OOOO\t        OOOO\t\tM M M\t\n",
      "BBBB            OOOO\t        OOOO\t\tM M M\t\n",
      "('Average of the potential = ', -2.2641727382723307e-06)\n"
     ]
    }
   ],
   "source": [
    "input_file = 'SOD/LOCPOT'\n",
    "#=== No need to edit below\n",
    "vasp_pot, NGX, NGY, NGZ, Lattice = pot.read_vasp_density(input_file)\n",
    "vector_a,vector_b,vector_c,av,bv,cv = pot.matrix_2_abc(Lattice)\n",
    "resolution_x = vector_a/NGX\n",
    "resolution_y = vector_b/NGY\n",
    "resolution_z = vector_c/NGZ\n",
    "grid_pot, electrons = pot.density_2_grid(vasp_pot,NGX,NGY,NGZ)"
   ]
  },
  {
   "cell_type": "code",
   "execution_count": 34,
   "metadata": {},
   "outputs": [
    {
     "name": "stdout",
     "output_type": "stream",
     "text": [
      "Potential            Variance\n",
      "--------------------------------\n",
      "5.36814762016     1.44905283289e-07\n"
     ]
    }
   ],
   "source": [
    "cube_size = [4,4,4]\n",
    "cube_origin = [0,0,0]\n",
    "## cube defines the size of the cube in units of mesh points (NGX/Y/Z)\n",
    "cube = cube_size\n",
    "## origin defines the bottom left point of the cube the \"0,0,0\" point in fractional coordinates\n",
    "origin = cube_origin\n",
    "## travelled; do not alter this variable\n",
    "travelled = [0,0,0]\n",
    "## Uncomment the lines below to do the business\n",
    "cube_potential, cube_var = pot.cube_potential(origin,travelled,cube,grid_pot,NGX,NGY,NGZ)\n",
    "print \"Potential            Variance\"\n",
    "print \"--------------------------------\"\n",
    "print cube_potential,\"   \", cube_var"
   ]
  },
  {
   "cell_type": "code",
   "execution_count": 35,
   "metadata": {},
   "outputs": [
    {
     "name": "stdout",
     "output_type": "stream",
     "text": [
      "-1.9688\n"
     ]
    }
   ],
   "source": [
    "%%bash\n",
    "nkpts=`grep NKPTS SOD/OUTCAR | awk '{print $4}'`\n",
    "uband=`grep NELECT SOD/OUTCAR | awk '{print $3/2}'`\n",
    "grep \"  $uband   \" SOD/OUTCAR | tail -$nkpts | awk '{print $2}' | sort -n | head | tail -1"
   ]
  },
  {
   "cell_type": "code",
   "execution_count": 36,
   "metadata": {},
   "outputs": [
    {
     "name": "stdout",
     "output_type": "stream",
     "text": [
      "IP: 7.3369 eV\n"
     ]
    }
   ],
   "source": [
    "print \"IP: %3.4f eV\" % (5.36814762016 -- 1.9688 )"
   ]
  },
  {
   "cell_type": "code",
   "execution_count": null,
   "metadata": {
    "collapsed": true
   },
   "outputs": [],
   "source": []
  }
 ],
 "metadata": {
  "kernelspec": {
   "display_name": "Python 2",
   "language": "python",
   "name": "python2"
  },
  "language_info": {
   "codemirror_mode": {
    "name": "ipython",
    "version": 2
   },
   "file_extension": ".py",
   "mimetype": "text/x-python",
   "name": "python",
   "nbconvert_exporter": "python",
   "pygments_lexer": "ipython2",
   "version": "2.7.13"
  }
 },
 "nbformat": 4,
 "nbformat_minor": 2
}
