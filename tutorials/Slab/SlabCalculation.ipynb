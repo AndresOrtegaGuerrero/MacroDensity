{
 "cells": [
  {
   "cell_type": "markdown",
   "metadata": {
    "deletable": true,
    "editable": true
   },
   "source": [
    "# Ionisation potential of a bulk material\n",
    "\n",
    "In this example we use `MacroDensity` with `VASP` to align the energy levels of a simple bulk material.\n",
    "\n",
    "The procedure involves two DFT calculations, yielding different important values\n",
    "\n",
    "* **A bulk calculation**, this provides us with the VBM eigenvalue under the assumption of zero potential ($\\epsilon_{vbm}$)\n",
    "* **A slab calculation**, this provides us with the vacuum level with resepct to the potential inside the material, the difference between these values is the surface dipole ($D_s$).\n",
    "\n",
    "The ionisation potential ($IP$) is then obtained from:\n",
    "\n",
    "$IP = D_s - \\epsilon_{vbm}$"
   ]
  },
  {
   "cell_type": "code",
   "execution_count": 1,
   "metadata": {
    "collapsed": true,
    "deletable": true,
    "editable": true
   },
   "outputs": [],
   "source": [
    "%matplotlib inline\n",
    "import macrodensity as md\n",
    "import math\n",
    "import numpy as np\n",
    "import matplotlib.pyplot as plt\n",
    "import matplotlib as mpl"
   ]
  },
  {
   "cell_type": "markdown",
   "metadata": {
    "deletable": true,
    "editable": true
   },
   "source": [
    "# Bulk calculation\n",
    "\n",
    "In this calculation we calculate the eigenvalues of the bulk material, under the assumption of zero average potential.\n",
    "\n",
    "You find the eigenvalues printed after the line \"band No.  band energies     occupation\" in the `OUTCAR`\n",
    "\n",
    "I have written a small script to do this witin MacroDensity - `vasp_tools.get_band_extrema`\n",
    "    \n",
    "Let's try it out on the OUTCAR_bulk file in this directory"
   ]
  },
  {
   "cell_type": "code",
   "execution_count": 4,
   "metadata": {
    "collapsed": false,
    "deletable": true,
    "editable": true
   },
   "outputs": [
    {
     "name": "stdout",
     "output_type": "stream",
     "text": [
      "[1.9483, 3.657]\n"
     ]
    }
   ],
   "source": [
    "extrema = md.vasp_tools.get_band_extrema('OUTCAR_MoO3_bulk')\n",
    "print extrema"
   ]
  },
  {
   "cell_type": "markdown",
   "metadata": {
    "deletable": true,
    "editable": true
   },
   "source": [
    "## Slab calculation\n",
    "\n",
    "Now we do a calculation of the slab to get the potential profile. Important settings for the `INCAR` file:\n",
    "\n",
    "    LVHAR = .TRUE.  # This generates a LOCPOT file with the potential \n",
    "    \n",
    "In your example directory there should already be a `LOCPOT_MoO3.vasp` file. This is the one we will use to analyse the potential and extract the vacuum level and the surface dipole.\n",
    "\n",
    "In the sample `PlanarAverage.py` file, all we have to edit are the top three lines. Of these the only one that is not obvious is the `lattice_vector` parameter. This is just the periodicity of the slab in the direction normal to the surface. In the picture below, this is just the distance between the layers of SnO$_2$.\n",
    "\n",
    "<img src=\"MoO3.png\">"
   ]
  },
  {
   "cell_type": "code",
   "execution_count": 5,
   "metadata": {
    "collapsed": true,
    "deletable": true,
    "editable": true
   },
   "outputs": [],
   "source": [
    "input_file = 'LOCPOT_MoO3.vasp'\n",
    "lattice_vector = 7.43\n",
    "output_file = 'planar.dat'"
   ]
  },
  {
   "cell_type": "markdown",
   "metadata": {
    "deletable": true,
    "editable": true
   },
   "source": [
    "### The code below is set in the PlanarAverage.py file; you don't need to edit it"
   ]
  },
  {
   "cell_type": "code",
   "execution_count": 7,
   "metadata": {
    "collapsed": false,
    "deletable": true,
    "editable": true
   },
   "outputs": [
    {
     "name": "stdout",
     "output_type": "stream",
     "text": [
      "Reading potential at point 100000\n",
      "Reading potential at point 200000\n",
      "Reading potential at point 300000\n",
      "Reading potential at point 400000\n",
      "Reading potential at point 500000\n",
      "Reading potential at point 600000\n",
      "Reading potential at point 700000\n",
      "Reading potential at point 800000\n",
      "Reading potential at point 900000\n",
      "Reading potential at point 1000000\n",
      "Reading potential at point 1100000\n",
      "Reading potential at point 1200000\n",
      "Reading potential at point 1300000\n",
      "Reading potential at point 1400000\n",
      "Reading potential at point 1500000\n",
      "Reading potential at point 1600000\n",
      "Reading potential at point 1700000\n",
      "Reading potential at point 1800000\n",
      "Reading potential at point 1900000\n",
      "Reading potential at point 2000000\n",
      "Reading potential at point 2100000\n",
      "Reading potential at point 2200000\n",
      "Reading potential at point 2300000\n",
      "Reading potential at point 2400000\n",
      "Reading potential at point 2500000\n",
      "Reading potential at point 2600000\n",
      "Reading potential at point 2700000\n",
      "Reading potential at point 2800000\n",
      "Reading potential at point 2900000\n",
      "Reading potential at point 3000000\n",
      "Reading potential at point 3100000\n",
      "Reading potential at point 3200000\n",
      "Reading potential at point 3300000\n",
      "Reading potential at point 3400000\n",
      "Reading potential at point 3500000\n",
      "Reading potential at point 3600000\n",
      "Reading potential at point 3700000\n",
      "Reading potential at point 3800000\n",
      "Reading potential at point 3900000\n",
      "Reading potential at point 4000000\n",
      "Reading potential at point 4100000\n",
      "Reading potential at point 4200000\n",
      "Reading potential at point 4300000\n",
      "Reading potential at point 4400000\n",
      "Reading potential at point 4500000\n",
      "Reading potential at point 4600000\n",
      "Reading potential at point 4700000\n",
      "Reading potential at point 4800000\n",
      "Reading potential at point 4900000\n",
      "Reading potential at point 5000000\n",
      "Reading potential at point 5100000\n",
      "Reading potential at point 5200000\n",
      "Reading potential at point 5300000\n",
      "Reading potential at point 5400000\n",
      "Reading potential at point 5500000\n",
      "Reading potential at point 5600000\n",
      "Reading potential at point 5700000\n",
      "Reading potential at point 5800000\n",
      "Reading potential at point 5900000\n",
      "Reading potential at point 6000000\n",
      "Reading potential at point 6100000\n",
      "Reading potential at point 6200000\n",
      "Reading potential at point 6300000\n",
      "Reading potential at point 6400000\n",
      "Reading potential at point 6500000\n",
      "Reading potential at point 6600000\n",
      "Reading potential at point 6700000\n",
      "Reading potential at point 6800000\n",
      "Reading potential at point 6900000\n",
      "Reading potential at point 7000000\n",
      "Reading potential at point 7100000\n",
      "Reading potential at point 7200000\n",
      "Reading potential at point 7300000\n",
      "Reading potential at point 7400000\n",
      "Reading potential at point 7500000\n",
      "Reading potential at point 7600000\n",
      "BBBB\t\tOOOO\t\tOOOO\t\tMMMMM\t\n",
      "BBBB\t\tOOOO\t\tOOOO\t\tMMMMM\t\n",
      "BBBB\t\tOOOO\t\tOOOO\t\tMMMMM\t\n",
      "B  B\t        OOOO\t\tOOOO\t\tMMMMM\t\n",
      "B  B\t        O  O\t\tO  O\t\tMMMMM\t\n",
      "B  B\t        O  O\t\tO  O\t\tMMMMM\t\n",
      "B  B\t        O  O\t\tO  O\t\tMMMMM\t\n",
      "B  B\t        O  O\t\tO  O\t\tMMMMM\t\n",
      "BBBB\t        O  O            O  O\t\tM M M\t\n",
      "BBBB\t        O  O\t\tO  O\t\tM M M\t\n",
      "BBBB\t        O  O\t\tO  O\t\tM M M\t\n",
      "B  B\t        O  O\t\tO  O\t\tM M M\t\n",
      "B  B\t        O  O\t\tO  O\t\tM M M\t\n",
      "B  B\t        O  O\t\tO  O\t\tM M M\t\n",
      "B  B\t        O  O\t\tO  O\t\tM M M\t\n",
      "B  B\t        OOOO    \tOOOO\t\tM M M\t\n",
      "BBBB            OOOO\t        OOOO\t\tM M M\t\n",
      "BBBB            OOOO\t        OOOO\t\tM M M\t\n",
      "BBBB            OOOO\t        OOOO\t\tM M M\t\n",
      "('Average of the potential = ', 2.9475444307536235e-14)\n"
     ]
    }
   ],
   "source": [
    "vasp_pot, NGX, NGY, NGZ, Lattice = md.read_vasp_density(input_file)\n",
    "vector_a,vector_b,vector_c,av,bv,cv = md.matrix_2_abc(Lattice)\n",
    "resolution_x = vector_a/NGX\n",
    "resolution_y = vector_b/NGY\n",
    "resolution_z = vector_c/NGZ\n",
    "grid_pot, electrons = md.density_2_grid(vasp_pot,NGX,NGY,NGZ)"
   ]
  },
  {
   "cell_type": "markdown",
   "metadata": {
    "deletable": true,
    "editable": true
   },
   "source": [
    "### The code below will prompt you to say which axis you want to average along"
   ]
  },
  {
   "cell_type": "code",
   "execution_count": 8,
   "metadata": {
    "collapsed": false,
    "deletable": true,
    "editable": true
   },
   "outputs": [
    {
     "name": "stdout",
     "output_type": "stream",
     "text": [
      "Which axis do you wish to plot along?(x,y,z)LOWER CASE!! z\n",
      "('Average of the average = ', 3.0884924247705688e-14)\n"
     ]
    }
   ],
   "source": [
    "## POTENTIAL\n",
    "planar = md.planar_average(grid_pot,NGX,NGY,NGZ)\n",
    "## MACROSCOPIC AVERAGE\n",
    "macro  = md.macroscopic_average(planar,lattice_vector,resolution_z)"
   ]
  },
  {
   "cell_type": "markdown",
   "metadata": {
    "deletable": true,
    "editable": true
   },
   "source": [
    "### Now we can plot the results"
   ]
  },
  {
   "cell_type": "code",
   "execution_count": 10,
   "metadata": {
    "collapsed": false,
    "deletable": true,
    "editable": true,
    "scrolled": true
   },
   "outputs": [
    {
     "data": {
      "image/png": "[encoded data removed]",
      "text/plain": [
       "<matplotlib.figure.Figure at 0x111461050>"
      ]
     },
     "metadata": {},
     "output_type": "display_data"
    }
   ],
   "source": [
    "fig, ax1 = plt.subplots(1, 1, sharex=True)\n",
    "\n",
    "textsize = 22\n",
    "mpl.rcParams['xtick.labelsize'] = textsize\n",
    "mpl.rcParams['ytick.labelsize'] = textsize\n",
    "mpl.rcParams['figure.figsize'] = (10, 6)\n",
    "\n",
    "ax1.plot(planar,label=\"Planar\",lw=3)\n",
    "ax1.plot(macro,label=\"Macroscopic\",lw=3)\n",
    "\n",
    "ax1.set_xlim(0,len(planar))\n",
    "\n",
    "ax1.set_facecolor((0.95,0.95,0.95))\n",
    "ax1.grid(True)\n",
    "\n",
    "ax1.legend(fontsize=22)\n",
    "plt.show()\n",
    "np.savetxt(output_file,macro)"
   ]
  },
  {
   "cell_type": "markdown",
   "metadata": {
    "deletable": true,
    "editable": true
   },
   "source": [
    "### PROTIP\n",
    "\n",
    "Sometimes the macroscopic average potential in the slab still looks very wavey. In this case it is sometimes required to increase the `lattice_vector` setting from earlier, since there are sometimes numerical effects. "
   ]
  },
  {
   "cell_type": "markdown",
   "metadata": {
    "deletable": true,
    "editable": true
   },
   "source": [
    "### Get the surface dipole ($D_s$)\n",
    "\n",
    "From inspection of the macroscopic average, saved in `planar.dat` we can find that the value of $V$ at each plateau is 6.58 V and -3.93 V. So the step $D_s$ is 10.51 V\n",
    "\n",
    "### The offset\n",
    "\n",
    "Applying the equation from earlier, the IP is \n",
    "\n"
   ]
  },
  {
   "cell_type": "code",
   "execution_count": 12,
   "metadata": {
    "collapsed": false
   },
   "outputs": [
    {
     "name": "stdout",
     "output_type": "stream",
     "text": [
      "IP:     8.5617 eV\n"
     ]
    }
   ],
   "source": [
    "print\"IP: %10.4f eV\"%(10.51 - 1.9483)"
   ]
  },
  {
   "cell_type": "markdown",
   "metadata": {
    "deletable": true,
    "editable": true
   },
   "source": [
    "## Exercise - IP for Bi$_2$O$_3$\n",
    "\n",
    "Use the procedure above and the Bi$_2$O$_3$ files to calculate the IP.\n",
    "\n",
    "Some information to assist with the assignment of `lattice_vector`:\n",
    "\n",
    "   * The $c$ lattice vector of the slab is 45.00 A.\n",
    "   * There are 840 sub-divisions along $c$. This can be set with the `NGZ` flag.\n",
    "   * The cell is 6 repeating unit cells long in the $c$-direction."
   ]
  },
  {
   "cell_type": "code",
   "execution_count": null,
   "metadata": {
    "collapsed": false,
    "deletable": true,
    "editable": true
   },
   "outputs": [],
   "source": []
  },
  {
   "cell_type": "code",
   "execution_count": null,
   "metadata": {
    "collapsed": true,
    "deletable": true,
    "editable": true
   },
   "outputs": [],
   "source": []
  },
  {
   "cell_type": "code",
   "execution_count": null,
   "metadata": {
    "collapsed": false,
    "deletable": true,
    "editable": true
   },
   "outputs": [],
   "source": []
  },
  {
   "cell_type": "code",
   "execution_count": null,
   "metadata": {
    "collapsed": false,
    "deletable": true,
    "editable": true
   },
   "outputs": [],
   "source": []
  },
  {
   "cell_type": "code",
   "execution_count": null,
   "metadata": {
    "collapsed": false,
    "deletable": true,
    "editable": true
   },
   "outputs": [],
   "source": []
  },
  {
   "cell_type": "code",
   "execution_count": null,
   "metadata": {
    "collapsed": true,
    "deletable": true,
    "editable": true
   },
   "outputs": [],
   "source": []
  }
 ],
 "metadata": {
  "kernelspec": {
   "display_name": "Python 2",
   "language": "python",
   "name": "python2"
  },
  "language_info": {
   "codemirror_mode": {
    "name": "ipython",
    "version": 2
   },
   "file_extension": ".py",
   "mimetype": "text/x-python",
   "name": "python",
   "nbconvert_exporter": "python",
   "pygments_lexer": "ipython2",
   "version": "2.7.13"
  }
 },
 "nbformat": 4,
 "nbformat_minor": 2
}
